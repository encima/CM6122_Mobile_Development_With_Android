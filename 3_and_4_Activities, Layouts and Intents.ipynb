{
 "cells": [
  {
   "cell_type": "markdown",
   "metadata": {
    "collapsed": true,
    "slideshow": {
     "slide_type": "slide"
    }
   },
   "source": [
    "# Activities, Layouts and Intents\n",
    "\n",
    "## Dr. Chris Gwilliams\n",
    "\n",
    "### gwilliamsc@cardiff.ac.uk"
   ]
  },
  {
   "cell_type": "markdown",
   "metadata": {
    "slideshow": {
     "slide_type": "slide"
    }
   },
   "source": [
    "# Overview\n",
    "\n",
    "* What is an Activity?\n",
    "* Activities in the context of the OS\n",
    "* Activity Operations\n",
    "* What are they comprised of?\n",
    "* Java vs. XML\n",
    "* Creating layouts\n",
    "* Intents\n",
    "* Internal vs. External\n"
   ]
  },
  {
   "cell_type": "markdown",
   "metadata": {
    "slideshow": {
     "slide_type": "slide"
    }
   },
   "source": [
    "# Activities - What?\n",
    "\n",
    "* Pretty much every screen in an app is an `Activity` \n",
    "* One app is (typically) made up of many activities\n",
    "* They are comprised of (not the CamelCase vs snake_case):\n",
    "    * `ActivityName.java` - Logic\n",
    "    * `activity_name.xml` - Layout"
   ]
  },
  {
   "cell_type": "markdown",
   "metadata": {
    "slideshow": {
     "slide_type": "subslide"
    }
   },
   "source": [
    "## How?\n",
    "\n",
    "* Each Android app runs contained within an APK\n",
    "* Each up runs inside its own Android JVM (now know as the Android RunTime (ART)\n",
    "* Within this, each activity is put onto a stack\n",
    "* Android has a unified transport system to switch between **all** activities: Intents"
   ]
  },
  {
   "cell_type": "markdown",
   "metadata": {
    "slideshow": {
     "slide_type": "slide"
    }
   },
   "source": [
    "# The Stack\n",
    "\n",
    "Android is a true multi-tasking operating systems. This means:\n",
    "\n",
    "* The OS only really touches your apps after they have been in the background for too long or consuming too many resources\n",
    "    * This is why you see more `force closes` on here than other mobile OS'\n",
    "* Android allows apps to control when they run and when they don't, with some control of pausing, resuming and suspending.\n",
    "* It is **your** responsibility to ensure your app does not drain too much battery or hog memory!"
   ]
  },
  {
   "cell_type": "markdown",
   "metadata": {
    "slideshow": {
     "slide_type": "subslide"
    }
   },
   "source": [
    "![backstack](img/backstack.png)"
   ]
  },
  {
   "cell_type": "markdown",
   "metadata": {
    "slideshow": {
     "slide_type": "fragment"
    }
   },
   "source": [
    "Notice how the back button takes you to the previous screen in an app?\n",
    "\n",
    "Each new activity is added onto a stack, going back `pops` that activity off the stack and it is destroyed."
   ]
  },
  {
   "cell_type": "markdown",
   "metadata": {
    "slideshow": {
     "slide_type": "slide"
    }
   },
   "source": [
    "# The Activity Lifecycle\n",
    "\n",
    "![lifecycle](img/activity_lifecycle.png)"
   ]
  },
  {
   "cell_type": "markdown",
   "metadata": {
    "slideshow": {
     "slide_type": "fragment"
    }
   },
   "source": [
    "[https://gitlab.cs.cf.ac.uk/CM6122/Activities](git@gitlab.cs.cf.ac.uk:CM6122/Activities.git)\n",
    "\n",
    "### Exercise\n",
    "Do Step_One branch"
   ]
  },
  {
   "cell_type": "markdown",
   "metadata": {
    "slideshow": {
     "slide_type": "slide"
    }
   },
   "source": [
    "# Intents\n",
    "\n",
    "https://gitlab.cs.cf.ac.uk/CM6122/intents\n",
    "\n",
    "The messaging system used by Android to pass information between Activities and Applications.\n",
    "\n",
    "Intents can be local to your application (internal), or they can launch a different app or service (external)."
   ]
  },
  {
   "cell_type": "markdown",
   "metadata": {
    "slideshow": {
     "slide_type": "fragment"
    }
   },
   "source": [
    "```java\n",
    "Intent i = new Intent(this, NewActivity.class); //FROM, TO\n",
    "startActivity(i);\n",
    "```\n",
    "### Exercise\n",
    "Do step two"
   ]
  },
  {
   "cell_type": "markdown",
   "metadata": {
    "slideshow": {
     "slide_type": "subslide"
    }
   },
   "source": [
    "# `Bundling Extra` data  with Intents\n",
    "\n",
    "Intents just open an Activity, but what if we want to send something to that new Activity?\n",
    "\n",
    "I.e. An intent to open the browser is not very useful if we do not know the URL to open.\n",
    "\n",
    "Enter: bundles.\n",
    "\n",
    "These are like Python `dicts` in that they have a key and a value.\n",
    "\n",
    "There are 2 ways of using them with Intents:"
   ]
  },
  {
   "cell_type": "markdown",
   "metadata": {
    "slideshow": {
     "slide_type": "subslide"
    }
   },
   "source": [
    "# `putExtra`\n",
    "\n",
    "```java\n",
    "i.putExtra(\"key\", \"value\");\n",
    "```"
   ]
  },
  {
   "cell_type": "markdown",
   "metadata": {
    "slideshow": {
     "slide_type": "fragment"
    }
   },
   "source": [
    "# `Bundles`\n",
    "\n",
    "```java\n",
    "Bundle b = new Bundle()\n",
    "b.puString(\"key\", \"value\");\n",
    "startActivity(i, b);\n",
    "```"
   ]
  },
  {
   "cell_type": "markdown",
   "metadata": {
    "slideshow": {
     "slide_type": "fragment"
    }
   },
   "source": [
    "What are some advantages of one over the other?\n",
    "### Exercise\n",
    "Do step three"
   ]
  },
  {
   "cell_type": "markdown",
   "metadata": {
    "slideshow": {
     "slide_type": "notes"
    }
   },
   "source": [
    "Really, there is very little difference.\n",
    "\n",
    "If you were to use multiple intents then the bundle can be sent to all of them. Bundles can be used for other methods as well.\n",
    "\n",
    "Extras are cleaner if they are a single time use for one intent."
   ]
  },
  {
   "cell_type": "markdown",
   "metadata": {
    "slideshow": {
     "slide_type": "subslide"
    }
   },
   "source": [
    "# Retrieving Data from an Intent\n",
    "\n",
    "* Get the intent\n",
    "\n",
    "`getIntent()`\n",
    "\n",
    "* Check if it has the extra you want\n",
    "\n",
    "`getIntent().hasExtra(\"name\")`\n",
    "\n",
    "* Get the extra!\n",
    "\n",
    "```java\n",
    "Bundle b = getIntent().getExtras();\n",
    "String s = b.getString(\"name\");\n",
    "or\n",
    "String s = b.getString(\"name\", \"default value\"); //will give default value if the key does not exist\n",
    "```\n",
    "### Exercise\n",
    "Do step four\n"
   ]
  },
  {
   "cell_type": "markdown",
   "metadata": {
    "slideshow": {
     "slide_type": "slide"
    }
   },
   "source": [
    "# Activities and the Manifest\n",
    "\n",
    "Each time you create a new activity, it must be defined in the manifest. Android Studio will often do this for you, but you need to understand how this works and it is not always right.\n",
    "\n",
    "Let's do this manually to see how they integrate.\n",
    "\n",
    "### Exercise \n",
    "\n",
    "Complete Step 5"
   ]
  },
  {
   "cell_type": "markdown",
   "metadata": {
    "slideshow": {
     "slide_type": "slide"
    }
   },
   "source": [
    "# Layouts\n",
    "\n",
    "We have used layouts a bit in the previous exercise. \n",
    "\n",
    "What are the advantages/disadvantages of using XML vs Java for layouts?"
   ]
  },
  {
   "cell_type": "markdown",
   "metadata": {
    "slideshow": {
     "slide_type": "subslide"
    }
   },
   "source": [
    "| **Java**                              | **XML**                                          |\n",
    "|---------------------------------------|--------------------------------------------------|\n",
    "| Up to 20x faster                      | Decouples logic from UX                          |\n",
    "| Widgets accessible easier in the code | Design preview available                         |\n",
    "| Able to react to runtime changes      | More extensible (different layouts, screen sizes |\n",
    "| More code to maintain                 | Static                                           |"
   ]
  },
  {
   "cell_type": "markdown",
   "metadata": {
    "slideshow": {
     "slide_type": "slide"
    }
   },
   "source": [
    "# Design GUI\n",
    "\n",
    "Improves with every release. \n",
    "Access to all components and does not require XML knowledge or knowledge of layout structure.\n",
    "Live preview of work.\n",
    "Not great with fragments or newer Android features (i.e. ActionBar)\n",
    "\n",
    "![gui](img/design_gui.png)"
   ]
  },
  {
   "cell_type": "markdown",
   "metadata": {
    "slideshow": {
     "slide_type": "slide"
    }
   },
   "source": [
    "# XML Editor\n",
    "\n",
    "Autocomplete options available.\n",
    "Finer grained control over widgets.\n",
    "No Live preview.\n",
    "\n",
    "Often a mix of the two is the best option.\n"
   ]
  },
  {
   "cell_type": "markdown",
   "metadata": {
    "slideshow": {
     "slide_type": "slide"
    }
   },
   "source": [
    "# Resources\n",
    "\n",
    "Resources can be anything:\n",
    "* Images\n",
    "* Strings\n",
    "* Video files\n",
    "* Audio\n",
    "\n",
    "Not all folders are created by default:\n",
    "Right click on `res` and on new `resource file` or `resource directory` and specify the type you want.\n",
    "\n",
    "Note: it is here that you specify different parameters (screen sizes etc) but we will come to this later"
   ]
  },
  {
   "cell_type": "markdown",
   "metadata": {
    "slideshow": {
     "slide_type": "slide"
    }
   },
   "source": [
    "# Build Issues\n",
    "\n",
    "Android Studio **will** give you errors. Often, the red `!` will provide a solution.\n",
    "\n",
    "Other times, the `messages` box at the bottom will give you the option to fix and sync the project.\n",
    "\n",
    "If it does not:\n",
    "1. Check for errors in your code. None? Go to step 2.\n",
    "2. Check for errors in your XML. None? Go to step 3.\n",
    "3. `Build`->`Clean Project` Still issues? Go to step 4.\n",
    "4. `Build`->`Rebuild Project` Still issues? Go to step 5.\n",
    "5. Ask for help and explain the problem in detail and what you have tried."
   ]
  },
  {
   "cell_type": "markdown",
   "metadata": {
    "slideshow": {
     "slide_type": "slide"
    }
   },
   "source": [
    "### Exercise\n",
    "\n",
    "Using the app created in the git repository, modify the layout of the `NewActivity` class to hold an image viewer and set it do display the `ic_launcher` in the `mipmap` folder. Try it in code and using the GUI.\n",
    "\n",
    "Add an image of your own if you finish.\n",
    "\n",
    "Under that, create a simple form and link it to the XML. Try changing the layout and see what the differences are.\n",
    "\n",
    "Note: You should not need to touch the Java code here, but you are welcome to."
   ]
  },
  {
   "cell_type": "markdown",
   "metadata": {
    "slideshow": {
     "slide_type": "slide"
    }
   },
   "source": [
    "# Homework\n",
    "\n",
    "500 words on the different between LinearLayout, Relative layout and GridLayout. When would you use one over the other? \n",
    "\n",
    "Give a simple example of each."
   ]
  }
 ],
 "metadata": {
  "celltoolbar": "Slideshow",
  "kernelspec": {
   "display_name": "Python 2",
   "language": "python",
   "name": "python2"
  },
  "language_info": {
   "codemirror_mode": {
    "name": "ipython",
    "version": 2
   },
   "file_extension": ".py",
   "mimetype": "text/x-python",
   "name": "python",
   "nbconvert_exporter": "python",
   "pygments_lexer": "ipython2",
   "version": "2.7.12"
  }
 },
 "nbformat": 4,
 "nbformat_minor": 0
}
