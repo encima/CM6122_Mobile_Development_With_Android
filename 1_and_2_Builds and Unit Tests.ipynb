{
 "cells": [
  {
   "cell_type": "markdown",
   "metadata": {
    "collapsed": true,
    "slideshow": {
     "slide_type": "slide"
    }
   },
   "source": [
    "# Build and Unit Tests\n",
    "\n",
    "## Dr. Chris Gwilliams\n",
    "\n",
    "### gwilliamsc@cardiff.ac.uk"
   ]
  },
  {
   "cell_type": "markdown",
   "metadata": {
    "slideshow": {
     "slide_type": "slide"
    }
   },
   "source": [
    "# Overview\n",
    "\n",
    "* Testing as a concept\n",
    "* Unit Testing\n",
    "* Build Systems \n",
    "* Android automated builds\n",
    "* Gradle\n",
    "* Gradle in the command line\n",
    "* Gradle within Android Studio\n",
    "\n",
    "### Ensure you have `gradle` working in your command line before moving on!"
   ]
  },
  {
   "cell_type": "markdown",
   "metadata": {
    "slideshow": {
     "slide_type": "slide"
    }
   },
   "source": [
    "# Testing\n",
    "\n",
    "Testing is now built into all Android projects, with folders and simple tests auto created. Android Studio has a testing interface that allows you to run these but first we need to run tests in the command line.\n",
    "\n",
    "Why do we test?"
   ]
  },
  {
   "cell_type": "markdown",
   "metadata": {
    "slideshow": {
     "slide_type": "fragment"
    }
   },
   "source": [
    "* Running the code you wrote means there will be bias and test cases you have not thought of\n",
    "* Manual testing is slow\n",
    "* Because it works on your platform, does not mean it works on others\n",
    "* Good practice and employable skill\n"
   ]
  },
  {
   "cell_type": "markdown",
   "metadata": {
    "slideshow": {
     "slide_type": "slide"
    }
   },
   "source": [
    "# Unit Testing\n",
    "\n",
    "Unit testing is the logic side of testing. In terms of Android, it is everything that can be tested **without** actually needing to run the application on a device."
   ]
  },
  {
   "cell_type": "markdown",
   "metadata": {
    "slideshow": {
     "slide_type": "fragment"
    }
   },
   "source": [
    "### Exercise\n",
    "\n",
    "For each of these activities, write if they are unit tests or not:\n",
    "\n",
    "1. Starting a new Activity\n",
    "2. Creating a new instance of a class\n",
    "3. Disabling Bluetooth\n",
    "4. Adding an item to an AlertDialog\n",
    "5. Setting the property of a class\n",
    "6. Connecting to/requesting data from a database"
   ]
  },
  {
   "cell_type": "markdown",
   "metadata": {
    "slideshow": {
     "slide_type": "notes"
    }
   },
   "source": [
    "1. No\n",
    "2. Yes\n",
    "3. No\n",
    "4. No\n",
    "5. Yes\n",
    "6. Yes (ish) - if the database is local on the device or requires specific networking then it would not be"
   ]
  },
  {
   "cell_type": "markdown",
   "metadata": {
    "slideshow": {
     "slide_type": "slide"
    }
   },
   "source": [
    "# Instrumentation Testing\n",
    "\n",
    "Every answer that was a no is an example of instrumentation testing, which is any testing that needs to be run on either a physical device or the emulator.\n",
    "\n",
    "We do not cover it in this session. Every app you make from this session on should have tests in the `test` folder and not the `androidTest` folder (we will cover this later in the course).\n",
    "\n",
    "If we do not write tests in a session then **WRITE THEM AT HOME**"
   ]
  },
  {
   "cell_type": "markdown",
   "metadata": {
    "slideshow": {
     "slide_type": "slide"
    }
   },
   "source": [
    "# Let's Test\n",
    "\n",
    "https://gitlab.cs.cf.ac.uk/CM6122/Unit_Testing\n",
    "\n",
    "* Check out each branch as you go along and make sure you complete each step within them\n",
    "* Create your own version of the repo to implement the exercises\n",
    "* If you get stuck, ask someone\n",
    "* If you fall behind, check out the next branch and come back to it **in your own time**\n"
   ]
  },
  {
   "cell_type": "markdown",
   "metadata": {
    "slideshow": {
     "slide_type": "slide"
    }
   },
   "source": [
    "# Build Systems\n",
    "\n",
    "So far, your experience of build systems on this course has been Android Studio taking an age to create a new app or make a trivial change.\n",
    "\n",
    "While it is frustrating, understanding what it is doing for you makes that long wait slightly more bearable.\n",
    "\n",
    "First, what is an automated build system?"
   ]
  },
  {
   "cell_type": "markdown",
   "metadata": {
    "slideshow": {
     "slide_type": "fragment"
    }
   },
   "source": [
    "* Automates testing\n",
    "* Builds a deployable version of your app\n",
    "* Runs the app on connected devices\n",
    "* Manages packages and libraries"
   ]
  },
  {
   "cell_type": "markdown",
   "metadata": {
    "slideshow": {
     "slide_type": "subslide"
    }
   },
   "source": [
    "# [Gradle](gradle.org)\n",
    "## The Build System used by Android\n",
    "\n",
    "* Ant and Maven are Build Systems often used by Java developers\n",
    "* They have some issues that Gradle tries to address\n",
    "* Handles dependencies, builds and tests\n",
    "* Very extensible and designed for multi-project builds\n",
    "* Follows the `Groovy` syntax\n",
    "* Extremely extensible\n",
    "* Automatic download of dependencies (using specified repos)\n"
   ]
  },
  {
   "cell_type": "markdown",
   "metadata": {
    "slideshow": {
     "slide_type": "subslide"
    }
   },
   "source": [
    "# Gradle and Android\n",
    "\n",
    "* App level `build.gradle`\n",
    "    * This file specifies the repositories that packages should be downloaded from, as well as dependencies NOT SPECIFIC TO YOUR APP\n",
    "    \n",
    "* Module level `build.gradle`\n",
    "    * This file is for your app (module) and specifies all the dependencies and Android versions you are targeting\n",
    "\n",
    "Others:\n",
    "* `local.properties` - SDK location\n",
    "* `settings.gradle` - Modules to include (default includes your current app)\n",
    "\n",
    "## NOTE:\n",
    "\n",
    "When Gradle talks about modules, it means your app. We will not go beyond this context in this course.\n",
    "\n",
    "App == Module\n",
    "When Gradle talks about the Application, it means the container for your module"
   ]
  },
  {
   "cell_type": "markdown",
   "metadata": {
    "slideshow": {
     "slide_type": "subslide"
    }
   },
   "source": [
    "## App level `build.gradle`\n",
    "```groovy\n",
    "// Top-level build file where you can add configuration options common to all sub-projects/modules.\n",
    "\n",
    "buildscript {\n",
    "    repositories {\n",
    "        jcenter()\n",
    "    }\n",
    "    dependencies {\n",
    "        classpath 'com.android.tools.build:gradle:2.1.2'\n",
    "\n",
    "        // NOTE: Do not place your application dependencies here; they belong\n",
    "        // in the individual module build.gradle files\n",
    "    }\n",
    "}\n",
    "\n",
    "allprojects {\n",
    "    repositories {\n",
    "        jcenter()\n",
    "    }\n",
    "}\n",
    "\n",
    "task clean(type: Delete) {\n",
    "    delete rootProject.buildDir\n",
    "}\n",
    "```\n"
   ]
  },
  {
   "cell_type": "markdown",
   "metadata": {},
   "source": [
    "## Module level `build.gradle`\n",
    "\n",
    "```groovy\n",
    "apply plugin: 'com.android.application'\n",
    "\n",
    "android {\n",
    "    compileSdkVersion 23\n",
    "    buildToolsVersion \"23.0.3\" //ensure your build tools match up with your SDK\n",
    "\n",
    "    defaultConfig {\n",
    "        applicationId \"ms.gwillia.testing\"\n",
    "        minSdkVersion 22 //the lowest you want to support\n",
    "        targetSdkVersion 23\n",
    "        versionCode 1\n",
    "        versionName \"1.0\" //this needs to be changed each time there is a new version (i.e. Play Store updates)\n",
    "    }\n",
    "    buildTypes { //specify how to\n",
    "        release {\n",
    "            minifyEnabled false\n",
    "            proguardFiles getDefaultProguardFile('proguard-android.txt'), 'proguard-rules.pro'\n",
    "        }\n",
    "    }\n",
    "}\n",
    "\n",
    "dependencies { // here is where you add dependencies required for your app\n",
    "    compile fileTree(dir: 'libs', include: ['*.jar'])\n",
    "    testCompile 'junit:junit:4.12'\n",
    "    compile 'com.android.support:appcompat-v7:23.4.0'\n",
    "}\n",
    "```\n"
   ]
  },
  {
   "cell_type": "markdown",
   "metadata": {
    "slideshow": {
     "slide_type": "slide"
    }
   },
   "source": [
    "# Command Line Gradle Builds\n",
    "\n",
    "https://gitlab.cs.cf.ac.uk/CM6122/Gradle\n",
    "\n",
    "Clone `step_one` of the repo and work through the exercises."
   ]
  },
  {
   "cell_type": "markdown",
   "metadata": {
    "slideshow": {
     "slide_type": "slide"
    }
   },
   "source": [
    "# Homework\n",
    "\n",
    "Work through https://docs.gradle.org/current/userguide/tutorial_using_tasks.html to try out more custom tasks in gradle."
   ]
  }
 ],
 "metadata": {
  "celltoolbar": "Slideshow",
  "kernelspec": {
   "display_name": "Python 2",
   "language": "python",
   "name": "python2"
  },
  "language_info": {
   "codemirror_mode": {
    "name": "ipython",
    "version": 2
   },
   "file_extension": ".py",
   "mimetype": "text/x-python",
   "name": "python",
   "nbconvert_exporter": "python",
   "pygments_lexer": "ipython2",
   "version": "2.7.12"
  }
 },
 "nbformat": 4,
 "nbformat_minor": 0
}
