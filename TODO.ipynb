{
 "cells": [
  {
   "cell_type": "markdown",
   "metadata": {},
   "source": [
    "## TODO:\n",
    "\n",
    "[ ] Put all code samples in Git repos (GitLab)\n",
    "\n",
    "[ ] Break steps of code up in to branches\n",
    "\n",
    "[ ] Turn PDFs into Jupyter notebooks\n",
    "\n",
    "[ ] Comment code in more detail and ensure it works on latest Android Studio (prior to course start)\n"
   ]
  },
  {
   "cell_type": "markdown",
   "metadata": {},
   "source": [
    "# Topics \n",
    "\n",
    "* Introduction to Android -  concepts\n",
    "* Introduction to Android Studio\n",
    "    * Using Android Studio\n",
    "    * Creating a project\n",
    "    * Structure of an app\n",
    "    * Editing layouts\n",
    "    * Creating a Virtual Machine\n",
    "    * Running on the virtual machine\n",
    "    * Linking layouts to code\n",
    "* Activities\n",
    "    * Activity structure\n",
    "    * Permissions\n",
    "    * Activity lifecycle\n",
    "    * Intents\n",
    "        * Packaging data and bundles\n",
    "    * Broadcast intents and broadcast receivers\n",
    "* R\n",
    "    * Resources\n",
    "    * Showing media\n",
    "    * Using R\n",
    "    * Strings.xml\n",
    "    * Localisation\n",
    "    * Handling multiple layouts\n",
    "    * Nav Drawers\n",
    "    * Action bars\n",
    "    * Fragments\n",
    "* List Views\n",
    "    * Creating a simple list view\n",
    "    * Cursors\n",
    "    * Content providers\n",
    "    * Adapaters\n",
    "    * Data sources and SQLite\n",
    "    * Shared preferences\n",
    "* Testing\n",
    "    * Unit tests\n",
    "    * Instrumentation tests\n",
    "    * Coverage\n",
    "* Services\n",
    "    * Accessing location/wifi/gps/bluetooth\n",
    "    * Handling power draw\n",
    "\n",
    "    "
   ]
  }
 ],
 "metadata": {
  "kernelspec": {
   "display_name": "Python 3",
   "language": "python",
   "name": "python3"
  },
  "language_info": {
   "codemirror_mode": {
    "name": "ipython",
    "version": 3
   },
   "file_extension": ".py",
   "mimetype": "text/x-python",
   "name": "python",
   "nbconvert_exporter": "python",
   "pygments_lexer": "ipython3",
   "version": "3.5.2"
  }
 },
 "nbformat": 4,
 "nbformat_minor": 0
}
