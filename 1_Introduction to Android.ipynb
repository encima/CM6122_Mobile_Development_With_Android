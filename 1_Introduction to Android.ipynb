{
 "cells": [
  {
   "cell_type": "markdown",
   "metadata": {
    "slideshow": {
     "slide_type": "slide"
    }
   },
   "source": [
    "# Mobile Development with Android\n",
    "## Introduction\n",
    "\n",
    "## Dr. Chris Gwilliams"
   ]
  },
  {
   "cell_type": "markdown",
   "metadata": {
    "slideshow": {
     "slide_type": "slide"
    }
   },
   "source": [
    "# Course Overview\n",
    "\n",
    "* Introduction to the Android Operating System, mobile development and its principles\n",
    "* Structure of an Android app\n",
    "* Create and editing layouts\n",
    "* Using resources\n",
    "* Activities and intents\n",
    "* Events and listeners\n",
    "* ListViews and adapters\n",
    "* SharedPreferences and SQLite\n",
    "* External datasources\n",
    "* Testing\n",
    "* Fragments, Navigation Drawers and Toolbars\n",
    "* Bluetooth, Networking and GPS\n"
   ]
  },
  {
   "cell_type": "markdown",
   "metadata": {
    "slideshow": {
     "slide_type": "slide"
    }
   },
   "source": [
    "# Course Structure\n",
    "\n",
    "* 30% Class Test\n",
    "    * Standard exam conditions\n",
    "    * Towards the end of the semester\n",
    "    * Access to sample code used in the course\n",
    "* 70% Portfolio\n",
    "    * Based on a project for an external client and your own work\n",
    "    #TODO explain coursework as blog posts and final report"
   ]
  },
  {
   "cell_type": "markdown",
   "metadata": {
    "slideshow": {
     "slide_type": "slide"
    }
   },
   "source": [
    "# Prerequisites and Software Requirements\n",
    "\n",
    "* Knowledge of Java\n",
    "* Basic knowledge of XML\n",
    "* Android Studio Installed\n",
    "* Android SDK 6.0 (Marshmallow)\n",
    "* Working Android Emulator image \n",
    "\n",
    "Ensure you have all of these!"
   ]
  },
  {
   "cell_type": "markdown",
   "metadata": {
    "slideshow": {
     "slide_type": "slide"
    }
   },
   "source": [
    "# Introduction \n",
    "\n",
    "* Android is a (mainly) open source OS developed by Google.\n",
    "* Apps are developed in Java, using the Android Software Development Kit (SDK)\n",
    "* New versions every year\n",
    "    * Security updates every month\n",
    "* Operating system modified by hardware manufacturers at different levels\n",
    "    * Samsung - TouchWiz, Sony - Xperia, LG - Optimus\n",
    "* Apps run in a virtual machine, very different to the Desktop JVM, called  the Android Run Time (ART)\n",
    "* Developers desperately needed and this course gives generic mobile development skills (with Android as the core focus)"
   ]
  },
  {
   "cell_type": "markdown",
   "metadata": {
    "slideshow": {
     "slide_type": "slide"
    }
   },
   "source": [
    "# Android Versions"
   ]
  },
  {
   "cell_type": "markdown",
   "metadata": {
    "slideshow": {
     "slide_type": "fragment"
    }
   },
   "source": [
    "1.5 - Cupcake?"
   ]
  },
  {
   "cell_type": "markdown",
   "metadata": {
    "slideshow": {
     "slide_type": "subslide"
    }
   },
   "source": [
    "1.5 - \n",
    "\n",
    "2.0 - \n",
    "\n",
    "2.2 - \n",
    "\n",
    "2.3 - \n",
    "\n",
    "3.0 - \n",
    "\n",
    "4.1 - \n",
    "\n",
    "4.4 - \n",
    "\n",
    "5.0 -\n",
    "\n",
    "6.0 -\n",
    "\n",
    "7.0 -"
   ]
  },
  {
   "cell_type": "markdown",
   "metadata": {
    "slideshow": {
     "slide_type": "notes"
    }
   },
   "source": [
    "1.5 - Cupcake\n",
    "\n",
    "2.0 - Donut\n",
    "\n",
    "2.2 - Eclair\n",
    "\n",
    "2.3 - Froyo\n",
    "\n",
    "3.0 - Gingerbread\n",
    "\n",
    "3.1 - Honeycomb\n",
    "\n",
    "4.0 - Ice Cream Sandwich\n",
    "\n",
    "4.1 - Jellybean\n",
    "\n",
    "4.4 - Kitkat \n",
    "\n",
    "5.0 - Lollipop\n",
    "\n",
    "6.0 - Marshmallow\n",
    "\n",
    "7.0 - N?"
   ]
  },
  {
   "cell_type": "markdown",
   "metadata": {
    "slideshow": {
     "slide_type": "subslide"
    }
   },
   "source": [
    "# What Does this Mean?\n",
    "\n",
    "* Fragmentation\n",
    "* Apps have to support versions that could be years old and you then have to support all the different SDKs\n",
    "* There is no single winning version and it will change all the [time](https://developer.android.com/about/dashboards/index.html)\n",
    "\n",
    "| Version | Codename             | API | Distribution |\n",
    "|---------|----------------------|-----|--------------|\n",
    "| 2.2     | Froyo                | 8   | 0.1%         |\n",
    "| 2.3     | Gingerbread          | 10  | 2.0%         |\n",
    "| 4.0.4   | Ice Cream Sandwich   | 15  | 1.9%         |\n",
    "| 4.1.x   | Jelly Bean           | 16  | 6.8%         |\n",
    "| 4.2.x   |                      | 17  | 9.4%         |\n",
    "| 4.3     |                      | 18  | 2.7%         |\n",
    "| 4.4     | KitKat               | 19  | 31.6%        |\n",
    "| 5.0     | Lollipop             | 21  | 15.4%        |\n",
    "| 5.1     |                      | 22  | 20.0%        |\n",
    "| 6.0     |   Marshmallow        | 23  | 10.1%        |\n",
    "\n",
    "Correct, as of June 2016."
   ]
  },
  {
   "cell_type": "markdown",
   "metadata": {
    "slideshow": {
     "slide_type": "subslide"
    }
   },
   "source": [
    "# Developing for Android\n",
    "## Case Study - Monkop\n",
    "\n",
    "* 50 devices only hit 25% of the total market\n",
    "* Charging/Updates/Maintenance\n",
    "* Variations between versions\n",
    "* Variations between manufacturers (Samsung is worst for this)\n",
    "* Managing multiple Google Accounts\n",
    "* Differences across regions\n",
    "\n",
    "Solutions?"
   ]
  },
  {
   "cell_type": "markdown",
   "metadata": {
    "slideshow": {
     "slide_type": "fragment"
    }
   },
   "source": [
    "* Support a small set of devices\n",
    "* Use automated tested services\n",
    "* Use beta groups"
   ]
  },
  {
   "cell_type": "markdown",
   "metadata": {
    "slideshow": {
     "slide_type": "slide"
    }
   },
   "source": [
    "# Android OS Components\n",
    "\n",
    "![android boot](img/booting-android.jpg)"
   ]
  },
  {
   "cell_type": "markdown",
   "metadata": {},
   "source": [
    "# Android OS Components\n",
    "\n",
    "1. Radio - This is the first piece of software to run. It handles no user interaction and has the sole purpose of booting up hardware needed for the OS to run:\n",
    "  * GPS\n",
    "  * GSM\n",
    "  * CPU\n",
    "2. Bootloader - The first bytes of code on a phone to run. Runs the OS if there is no user interruption. Listens for pressing of hardware key combinations to enter `fastboot mode` and load the boot menu. From here, users can:\n",
    "  * Wipe partitions\n",
    "  * Enter recovery \n",
    "  * Shutdown/Reboot"
   ]
  },
  {
   "cell_type": "markdown",
   "metadata": {
    "slideshow": {
     "slide_type": "slide"
    }
   },
   "source": [
    "# Android OS Components\n",
    "\n",
    "3. Kernel - The bridge between the hardware and the software of the phone. The kernel handles the CPU speed and access to peripherals like the camera\n",
    "4. Recovery - A partition of the phone that can flash updates, wipe other partitions, access the command prompt or partition SD cards. When phones are rooted, this is the section that can be replaced with a `modded` recovery."
   ]
  },
  {
   "cell_type": "markdown",
   "metadata": {
    "slideshow": {
     "slide_type": "slide"
    }
   },
   "source": [
    "# Android Development Tools\n",
    "## Android Debug Bridge (ADB)\n",
    "\n",
    "A command line tool that allows comms between an Android device and your development machine.\n",
    "It also works with emulated devices. Runs like a client-server (think, web) and has 3 parts:\n",
    "- A client (runs on ?)\n",
    "- A server (runs on ?)\n",
    "- A daemon - runs as a background process on each device."
   ]
  },
  {
   "cell_type": "markdown",
   "metadata": {
    "slideshow": {
     "slide_type": "fragment"
    }
   },
   "source": [
    "Allows commands to be run on the device, such as:\n",
    "- Installing applications\n",
    "- Rebooting the device \n",
    "- Copying files\n",
    "- Networking commands"
   ]
  },
  {
   "cell_type": "markdown",
   "metadata": {
    "slideshow": {
     "slide_type": "subslide"
    }
   },
   "source": [
    "# ADB\n",
    "\n",
    "Used by Android Studio to install apps and connect to available devices.\n",
    "\n",
    "`adb devices` - List connected devices\n",
    "\n",
    "`adb shell` - Access Android commands\n",
    "\n",
    "`adb reboot bootloader` - Restart device to bootloader menu (easier than holding down hardware keys)"
   ]
  },
  {
   "cell_type": "markdown",
   "metadata": {
    "slideshow": {
     "slide_type": "subslide"
    }
   },
   "source": [
    "# Fastboot\n",
    "\n",
    "Much lower level protocol to send commands to the Android bootloader. Seriously, you should never touch this tool (unless Google tells you to).\n",
    "\n",
    "Allows you to  ash new recoveries, radios, ROMs etc."
   ]
  },
  {
   "cell_type": "markdown",
   "metadata": {
    "slideshow": {
     "slide_type": "slide"
    }
   },
   "source": [
    "# Android Studio\n",
    "## Interface Overview\n",
    "\n",
    "![interface](img/as_interface.png)"
   ]
  },
  {
   "cell_type": "markdown",
   "metadata": {
    "slideshow": {
     "slide_type": "slide"
    }
   },
   "source": [
    "# Android Virtual Devices (AVD)\n",
    "\n",
    "A device that runs on your computer to emulate an Android phone. You can choose the version of your device, but only based on the SDK versions you have installed. \n",
    "\n",
    "Be warned: AVDs can take up many gigabytes of space on your HDD. We will get to making them later.\n"
   ]
  },
  {
   "cell_type": "markdown",
   "metadata": {
    "slideshow": {
     "slide_type": "subslide"
    }
   },
   "source": [
    "# Creating an Android Emulator\n",
    "\n"
   ]
  },
  {
   "cell_type": "markdown",
   "metadata": {
    "slideshow": {
     "slide_type": "subslide"
    }
   },
   "source": [
    "### Exercise\n",
    "\n",
    "1. Open Android Studio\n",
    "2. Open the AVD Manager\n",
    "3. Create a new Virtual Device of a Nexus 5X running lollipop\n",
    "4. Start the device\n",
    "5. Open a command prompt\n",
    "6. Type `adb devices` and ensure it is listed\n",
    "7. Type `adb` to see the commands you can execute\n",
    "\n",
    "Do the following exercises:\n",
    "1. How do you run a command on a device when multiple devices are connected?\n",
    "2. How do you access the terminal within the device? What about just to execute a single command?\n",
    "3. What is `logcat`?\n",
    "4. what does the command `adb -e push my_file.txt /sdcard/download/your_file.txt` do?\n"
   ]
  },
  {
   "cell_type": "markdown",
   "metadata": {
    "slideshow": {
     "slide_type": "notes"
    }
   },
   "source": [
    "1. `adb -s <device-name>` allows you to run commands on the specified device\n",
    "2. `adb shell` `adb shell ls`\n",
    "3. Log cat is the device logs of an Android device to show every event that is happening.\n",
    "4. Connect to the first emulator and copy a local file to the download directory of the sdcard"
   ]
  },
  {
   "cell_type": "markdown",
   "metadata": {
    "slideshow": {
     "slide_type": "slide"
    }
   },
   "source": [
    "# Android Studio\n",
    "## Creating an App (Left to Right)\n",
    "\n",
    "![app](img/as_app.png)"
   ]
  },
  {
   "cell_type": "markdown",
   "metadata": {
    "slideshow": {
     "slide_type": "slide"
    }
   },
   "source": [
    "# Android Studio\n",
    "## Creating an App\n",
    "\n",
    "![app](img/6122_New_Android_App.gif)"
   ]
  },
  {
   "cell_type": "markdown",
   "metadata": {
    "slideshow": {
     "slide_type": "slide"
    }
   },
   "source": [
    "# App Structure\n",
    "\n",
    "\n",
    "```\n",
    "    app_name/\n",
    "        .idea/\n",
    "        build.gradle\n",
    "        app/\n",
    "            build/\n",
    "            libs/\n",
    "            src/\n",
    "                androidTest/\n",
    "                test/\n",
    "                main/\n",
    "                    java/\n",
    "                        MainActivity.java\n",
    "                    res/\n",
    "                        layout/\n",
    "                            activity_main.xml\n",
    "                        values/\n",
    "                        mipmap/\n",
    "                    AndroidManifest.xml\n",
    "```"
   ]
  },
  {
   "cell_type": "markdown",
   "metadata": {
    "slideshow": {
     "slide_type": "slide"
    }
   },
   "source": [
    "# Key Points\n",
    "\n",
    "* Typically, every layout file (`xml`) has an accompanying Java file\n",
    "* Note the difference in naming. XML follows names similar to Python (snake_case), whereas Java is CamelCase\n",
    "* These folders are named this way **for a reason**, Android knows to look inside these to perform certain actions\n",
    "* Some of these folders you will never need to touch in this course\n",
    "* Not all of these folders need to be version controlled!\n",
    "\n",
    "Let's look into these some more:"
   ]
  },
  {
   "cell_type": "markdown",
   "metadata": {
    "slideshow": {
     "slide_type": "slide"
    }
   },
   "source": [
    "# `main/java`\n",
    "\n",
    "This is where all of your Java code will be placed. Essentially, anything that deals with the `logic` of your application is placed here. Follows the package naming that you learnt in Java.\n",
    "\n",
    "Note: not every Java class will be linked with a layout file\n",
    "\n"
   ]
  },
  {
   "cell_type": "markdown",
   "metadata": {
    "slideshow": {
     "slide_type": "slide"
    }
   },
   "source": [
    "#  `main/res`\n",
    "\n",
    "Res = resources\n",
    "\n",
    "Anything that supports the design (UI) of your application goes here. We will look at these in detail in the next few slides."
   ]
  },
  {
   "cell_type": "markdown",
   "metadata": {
    "slideshow": {
     "slide_type": "subslide"
    }
   },
   "source": [
    "# `res/layout`\n",
    "\n",
    "Arguably the most important folder: stores all layout xml files. \n",
    "\n",
    "XML files have an XML editor and a visual editor. Use whichever you are comfortable with.\n",
    "\n",
    "![layout](img/layout.png)"
   ]
  },
  {
   "cell_type": "markdown",
   "metadata": {
    "slideshow": {
     "slide_type": "subslide"
    }
   },
   "source": [
    "# `res/values`\n",
    "\n",
    "Up until now, we have been hard-coding our strings and other variables directly in the source code. Why might this be a bad idea?"
   ]
  },
  {
   "cell_type": "markdown",
   "metadata": {
    "slideshow": {
     "slide_type": "fragment"
    }
   },
   "source": [
    "* Hard to maintain\n",
    "* Long strings are hard to represent\n",
    "* Need multiple versions of code for different languages"
   ]
  },
  {
   "cell_type": "markdown",
   "metadata": {
    "slideshow": {
     "slide_type": "subslide"
    }
   },
   "source": [
    "# `res/values`\n",
    "\n",
    "![values](img/values_locales.png)"
   ]
  },
  {
   "cell_type": "markdown",
   "metadata": {
    "slideshow": {
     "slide_type": "subslide"
    }
   },
   "source": [
    "# `res/values`\n",
    "\n",
    "* Note how there are multiple files with the same name. Different countries have different filenames (-es, -en, -ja)\n",
    "* This is called localisation (we cover this later in the module)\n",
    "* Not just for languages, we have different files for different device sizes and type"
   ]
  },
  {
   "cell_type": "markdown",
   "metadata": {
    "slideshow": {
     "slide_type": "slide"
    }
   },
   "source": [
    "# Test and Android Test\n",
    "\n",
    "These folders are for all kinds of test for your application, these are split into 2 folders:\n",
    "* Test - For unit testing of all logic within the app (i.e. creation of users) (Runs on the JVM)\n",
    "* Android Test - For `instrumentation` tests of all interaction for the app (i.e. filling in text fields and performing log ins) (Runs on device or emulator)\n",
    "\n",
    "We will cover this in detail in a later session."
   ]
  },
  {
   "cell_type": "markdown",
   "metadata": {
    "slideshow": {
     "slide_type": "slide"
    }
   },
   "source": [
    "# `AndroidManifest.xml`\n",
    "\n",
    "The core of your application. **Everything that happens in your app must be listed in this file**\n",
    "\n",
    "* Permissions to use certain Android features\n",
    "* All activities within the app.\n",
    "\n",
    "```xml\n",
    "<?xml version=\"1.0\" encoding=\"utf-8\"?>\n",
    "<manifest xmlns:android=\"http://schemas.android.com/apk/res/android\"\n",
    "    package=\"ms.gwillia.activities\">\n",
    "    \n",
    "    <!--Permissions for all things the app requires-->\n",
    "    <uses-permission android:name=\"android.permission.ACCESS_COARSE_LOCATION\"/>\n",
    "\n",
    "    <application\n",
    "        android:allowBackup=\"true\"\n",
    "        android:icon=\"@mipmap/ic_launcher\"\n",
    "        android:label=\"@string/app_name\"\n",
    "        android:supportsRtl=\"true\"\n",
    "        android:theme=\"@style/AppTheme\">\n",
    "        <activity android:name=\".MainActivity\"> <!--activities go here -->\n",
    "            <intent-filter> <!--This block means that it is the first activity to launch when the app loads -->\n",
    "                <action android:name=\"android.intent.action.MAIN\" />\n",
    "\n",
    "                <category android:name=\"android.intent.category.LAUNCHER\" />\n",
    "            </intent-filter>\n",
    "        </activity>\n",
    "    </application>\n",
    "\n",
    "</manifest>\n",
    "```\n"
   ]
  },
  {
   "cell_type": "markdown",
   "metadata": {
    "slideshow": {
     "slide_type": "slide"
    }
   },
   "source": [
    "# Gradle\n",
    "\n",
    "The [build system](http://gradle.org) used by Google for Android. Basically, any delay you experience in Android is due to Gradle.\n",
    "\n",
    "We will cover this in detail later in the course:\n",
    "\n",
    "### NOTE - If gradle tells you to do something: 99% of the time you should do it!"
   ]
  },
  {
   "cell_type": "markdown",
   "metadata": {
    "slideshow": {
     "slide_type": "subslide"
    }
   },
   "source": [
    "# Gradle Reference\n",
    "\n",
    "![gradle](img/gradle.png)\n",
    "\n",
    "If Android Studio prompts something like this, always `Install and Sync project`. Always. Try this before asking for help.\n",
    "\n",
    "If there is an error with your `resources` folder or layouts etc and you think you have resolved it: **Build -> Clean project** "
   ]
  },
  {
   "cell_type": "markdown",
   "metadata": {
    "slideshow": {
     "slide_type": "slide"
    }
   },
   "source": [
    "# Closing\n",
    "\n",
    "Remember: Error Messages and the Console in Android Studio are there to help. Use them to debug your errors and also take note of the advice given by the IDE when there is a red exclamation point.\n",
    "\n",
    "Let's learn some Android!"
   ]
  }
 ],
 "metadata": {
  "celltoolbar": "Slideshow",
  "kernelspec": {
   "display_name": "Python 3",
   "language": "python",
   "name": "python3"
  },
  "language_info": {
   "codemirror_mode": {
    "name": "ipython",
    "version": 3
   },
   "file_extension": ".py",
   "mimetype": "text/x-python",
   "name": "python",
   "nbconvert_exporter": "python",
   "pygments_lexer": "ipython3",
   "version": "3.5.2"
  }
 },
 "nbformat": 4,
 "nbformat_minor": 0
}
